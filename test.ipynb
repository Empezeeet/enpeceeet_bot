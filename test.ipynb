{
 "cells": [
  {
   "cell_type": "code",
   "execution_count": 40,
   "metadata": {},
   "outputs": [],
   "source": [
    "import sys\n",
    "\n",
    "arr = [161, 173, 98, 104, 146, 194, 13, 185, 249, 224, 25, 182, 255, 193, 248, 249, 64, 146, 109, 101, 163, 23, 33, 25, 76, 102, 57, 123, 11, 222, 84, 86]\n",
    "# Create bytearray from arr. Must be 32 bytes\n",
    "\n"
   ]
  }
 ],
 "metadata": {
  "kernelspec": {
   "display_name": "Python 3",
   "language": "python",
   "name": "python3"
  },
  "language_info": {
   "codemirror_mode": {
    "name": "ipython",
    "version": 3
   },
   "file_extension": ".py",
   "mimetype": "text/x-python",
   "name": "python",
   "nbconvert_exporter": "python",
   "pygments_lexer": "ipython3",
   "version": "3.11.1 (tags/v3.11.1:a7a450f, Dec  6 2022, 19:58:39) [MSC v.1934 64 bit (AMD64)]"
  },
  "orig_nbformat": 4,
  "vscode": {
   "interpreter": {
    "hash": "e495c4a3f6690e785cf434f60c92fd69b7df7f934bb17868e67acc811dae5c6f"
   }
  }
 },
 "nbformat": 4,
 "nbformat_minor": 2
}
