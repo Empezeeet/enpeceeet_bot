{
 "cells": [
  {
   "cell_type": "code",
   "execution_count": null,
   "metadata": {},
   "outputs": [],
   "source": [
    "COMMANDS = [\n",
    "    {\n",
    "        \"id\":123,\n",
    "        \"name\":\"test\"\n",
    "    },\n",
    "    {\n",
    "        \"id\":445,\n",
    "        \"name\":\"test2\"\n",
    "    },\n",
    "    {\n",
    "        \"id\":223,\n",
    "        \"name\":\"test3\"\n",
    "    }\n",
    "]\n",
    "if \"test3\" in COMMANDS:\n",
    "    print(\"exusts\")\n",
    "else:\n",
    "    print(\"not exists\")"
   ]
  }
 ],
 "metadata": {
  "language_info": {
   "name": "python"
  },
  "orig_nbformat": 4
 },
 "nbformat": 4,
 "nbformat_minor": 2
}
